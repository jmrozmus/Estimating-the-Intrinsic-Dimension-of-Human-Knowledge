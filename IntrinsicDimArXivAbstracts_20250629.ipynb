{
 "cells": [
  {
   "cell_type": "markdown",
   "id": "051b577e-9862-4962-ac68-0407162f2a89",
   "metadata": {
    "editable": true,
    "slideshow": {
     "slide_type": ""
    },
    "tags": []
   },
   "source": [
    "## Estimate Intrinsic Dimension of ArXiv Abstracts"
   ]
  },
  {
   "cell_type": "code",
   "execution_count": 11,
   "id": "1f7b5467-4173-418e-a8b5-e1fa9d2bdc97",
   "metadata": {
    "scrolled": true
   },
   "outputs": [
    {
     "name": "stdout",
     "output_type": "stream",
     "text": [
      "Loading the complete Qdrant ArXiv Abstract embeddings dataset...\n"
     ]
    },
    {
     "data": {
      "application/vnd.jupyter.widget-view+json": {
       "model_id": "13da4718154f4e9eb3855ee0fe2168d3",
       "version_major": 2,
       "version_minor": 0
      },
      "text/plain": [
       "README.md:   0%|          | 0.00/1.69k [00:00<?, ?B/s]"
      ]
     },
     "metadata": {},
     "output_type": "display_data"
    },
    {
     "data": {
      "application/vnd.jupyter.widget-view+json": {
       "model_id": "0fa3ccda78764b52850f1c39ab50f39d",
       "version_major": 2,
       "version_minor": 0
      },
      "text/plain": [
       "Resolving data files:   0%|          | 0/46 [00:00<?, ?it/s]"
      ]
     },
     "metadata": {},
     "output_type": "display_data"
    },
    {
     "data": {
      "application/vnd.jupyter.widget-view+json": {
       "model_id": "2766625366b54e5887c6690964b0a47d",
       "version_major": 2,
       "version_minor": 0
      },
      "text/plain": [
       "Downloading data:   0%|          | 0/46 [00:00<?, ?files/s]"
      ]
     },
     "metadata": {},
     "output_type": "display_data"
    },
    {
     "data": {
      "application/vnd.jupyter.widget-view+json": {
       "model_id": "506b712076814e65b78843c2a0619c48",
       "version_major": 2,
       "version_minor": 0
      },
      "text/plain": [
       "(…)-00-arxiv-abstracts-instructorxl.parquet:   0%|          | 0.00/184M [00:00<?, ?B/s]"
      ]
     },
     "metadata": {},
     "output_type": "display_data"
    },
    {
     "data": {
      "application/vnd.jupyter.widget-view+json": {
       "model_id": "04a95db3b2a54571adaa18676751de38",
       "version_major": 2,
       "version_minor": 0
      },
      "text/plain": [
       "(…)-01-arxiv-abstracts-instructorxl.parquet:   0%|          | 0.00/185M [00:00<?, ?B/s]"
      ]
     },
     "metadata": {},
     "output_type": "display_data"
    },
    {
     "data": {
      "application/vnd.jupyter.widget-view+json": {
       "model_id": "ee4ab82f60b54542aa1031c369249888",
       "version_major": 2,
       "version_minor": 0
      },
      "text/plain": [
       "(…)-02-arxiv-abstracts-instructorxl.parquet:   0%|          | 0.00/184M [00:00<?, ?B/s]"
      ]
     },
     "metadata": {},
     "output_type": "display_data"
    },
    {
     "data": {
      "application/vnd.jupyter.widget-view+json": {
       "model_id": "f20ff1c8eb224afa9fbaed93661a0384",
       "version_major": 2,
       "version_minor": 0
      },
      "text/plain": [
       "(…)-03-arxiv-abstracts-instructorxl.parquet:   0%|          | 0.00/184M [00:00<?, ?B/s]"
      ]
     },
     "metadata": {},
     "output_type": "display_data"
    },
    {
     "data": {
      "application/vnd.jupyter.widget-view+json": {
       "model_id": "6a938932a6f945ceae081f56340f2139",
       "version_major": 2,
       "version_minor": 0
      },
      "text/plain": [
       "(…)-04-arxiv-abstracts-instructorxl.parquet:   0%|          | 0.00/185M [00:00<?, ?B/s]"
      ]
     },
     "metadata": {},
     "output_type": "display_data"
    },
    {
     "data": {
      "application/vnd.jupyter.widget-view+json": {
       "model_id": "3b9bba8e35284d729dd05b85dc78008e",
       "version_major": 2,
       "version_minor": 0
      },
      "text/plain": [
       "(…)-05-arxiv-abstracts-instructorxl.parquet:   0%|          | 0.00/184M [00:00<?, ?B/s]"
      ]
     },
     "metadata": {},
     "output_type": "display_data"
    },
    {
     "data": {
      "application/vnd.jupyter.widget-view+json": {
       "model_id": "d57101a6a560474b8e229ae8ca34927a",
       "version_major": 2,
       "version_minor": 0
      },
      "text/plain": [
       "(…)-06-arxiv-abstracts-instructorxl.parquet:   0%|          | 0.00/184M [00:00<?, ?B/s]"
      ]
     },
     "metadata": {},
     "output_type": "display_data"
    },
    {
     "data": {
      "application/vnd.jupyter.widget-view+json": {
       "model_id": "3ca3505c5ec24e4baba568c7c8baa419",
       "version_major": 2,
       "version_minor": 0
      },
      "text/plain": [
       "(…)-07-arxiv-abstracts-instructorxl.parquet:   0%|          | 0.00/184M [00:00<?, ?B/s]"
      ]
     },
     "metadata": {},
     "output_type": "display_data"
    },
    {
     "data": {
      "application/vnd.jupyter.widget-view+json": {
       "model_id": "6d88c54bde474cbdab78e526a76d12c7",
       "version_major": 2,
       "version_minor": 0
      },
      "text/plain": [
       "(…)-08-arxiv-abstracts-instructorxl.parquet:   0%|          | 0.00/184M [00:00<?, ?B/s]"
      ]
     },
     "metadata": {},
     "output_type": "display_data"
    },
    {
     "data": {
      "application/vnd.jupyter.widget-view+json": {
       "model_id": "009778f52fb342449a4b58a726f6bb49",
       "version_major": 2,
       "version_minor": 0
      },
      "text/plain": [
       "(…)-09-arxiv-abstracts-instructorxl.parquet:   0%|          | 0.00/185M [00:00<?, ?B/s]"
      ]
     },
     "metadata": {},
     "output_type": "display_data"
    },
    {
     "data": {
      "application/vnd.jupyter.widget-view+json": {
       "model_id": "9a905d00e8614463ab5c625292784836",
       "version_major": 2,
       "version_minor": 0
      },
      "text/plain": [
       "(…)-10-arxiv-abstracts-instructorxl.parquet:   0%|          | 0.00/184M [00:00<?, ?B/s]"
      ]
     },
     "metadata": {},
     "output_type": "display_data"
    },
    {
     "data": {
      "application/vnd.jupyter.widget-view+json": {
       "model_id": "2e5b9324f91e42788fb4de87b09f820d",
       "version_major": 2,
       "version_minor": 0
      },
      "text/plain": [
       "(…)-11-arxiv-abstracts-instructorxl.parquet:   0%|          | 0.00/184M [00:00<?, ?B/s]"
      ]
     },
     "metadata": {},
     "output_type": "display_data"
    },
    {
     "data": {
      "application/vnd.jupyter.widget-view+json": {
       "model_id": "7682a3220f62464a88cd408dde9a9cc5",
       "version_major": 2,
       "version_minor": 0
      },
      "text/plain": [
       "(…)-12-arxiv-abstracts-instructorxl.parquet:   0%|          | 0.00/184M [00:00<?, ?B/s]"
      ]
     },
     "metadata": {},
     "output_type": "display_data"
    },
    {
     "data": {
      "application/vnd.jupyter.widget-view+json": {
       "model_id": "6f845412b45c411cb3f0aa47adcb39f3",
       "version_major": 2,
       "version_minor": 0
      },
      "text/plain": [
       "(…)-13-arxiv-abstracts-instructorxl.parquet:   0%|          | 0.00/184M [00:00<?, ?B/s]"
      ]
     },
     "metadata": {},
     "output_type": "display_data"
    },
    {
     "data": {
      "application/vnd.jupyter.widget-view+json": {
       "model_id": "3b1f0833a5484fa082798c86ec6ff40b",
       "version_major": 2,
       "version_minor": 0
      },
      "text/plain": [
       "(…)-14-arxiv-abstracts-instructorxl.parquet:   0%|          | 0.00/184M [00:00<?, ?B/s]"
      ]
     },
     "metadata": {},
     "output_type": "display_data"
    },
    {
     "data": {
      "application/vnd.jupyter.widget-view+json": {
       "model_id": "06863cfd916f4dd1937c9bae2bbbc0b5",
       "version_major": 2,
       "version_minor": 0
      },
      "text/plain": [
       "(…)-15-arxiv-abstracts-instructorxl.parquet:   0%|          | 0.00/184M [00:00<?, ?B/s]"
      ]
     },
     "metadata": {},
     "output_type": "display_data"
    },
    {
     "data": {
      "application/vnd.jupyter.widget-view+json": {
       "model_id": "7ae340683f55469f8a419ebefd5d38ec",
       "version_major": 2,
       "version_minor": 0
      },
      "text/plain": [
       "(…)-16-arxiv-abstracts-instructorxl.parquet:   0%|          | 0.00/185M [00:00<?, ?B/s]"
      ]
     },
     "metadata": {},
     "output_type": "display_data"
    },
    {
     "data": {
      "application/vnd.jupyter.widget-view+json": {
       "model_id": "fd5e48ff01d94e7384864727c9037294",
       "version_major": 2,
       "version_minor": 0
      },
      "text/plain": [
       "(…)-17-arxiv-abstracts-instructorxl.parquet:   0%|          | 0.00/184M [00:00<?, ?B/s]"
      ]
     },
     "metadata": {},
     "output_type": "display_data"
    },
    {
     "data": {
      "application/vnd.jupyter.widget-view+json": {
       "model_id": "d7c9dde9a75e4f23ae25af0f6f1d3f4f",
       "version_major": 2,
       "version_minor": 0
      },
      "text/plain": [
       "(…)-18-arxiv-abstracts-instructorxl.parquet:   0%|          | 0.00/184M [00:00<?, ?B/s]"
      ]
     },
     "metadata": {},
     "output_type": "display_data"
    },
    {
     "data": {
      "application/vnd.jupyter.widget-view+json": {
       "model_id": "a2354416f6e942eba6109ae340a4aa68",
       "version_major": 2,
       "version_minor": 0
      },
      "text/plain": [
       "(…)-19-arxiv-abstracts-instructorxl.parquet:   0%|          | 0.00/184M [00:00<?, ?B/s]"
      ]
     },
     "metadata": {},
     "output_type": "display_data"
    },
    {
     "data": {
      "application/vnd.jupyter.widget-view+json": {
       "model_id": "d7dfa42ec70b403ea3848364c9fb5f37",
       "version_major": 2,
       "version_minor": 0
      },
      "text/plain": [
       "(…)-20-arxiv-abstracts-instructorxl.parquet:   0%|          | 0.00/184M [00:00<?, ?B/s]"
      ]
     },
     "metadata": {},
     "output_type": "display_data"
    },
    {
     "data": {
      "application/vnd.jupyter.widget-view+json": {
       "model_id": "68666c948a1f4cf4a1b58d205cd75e79",
       "version_major": 2,
       "version_minor": 0
      },
      "text/plain": [
       "(…)-21-arxiv-abstracts-instructorxl.parquet:   0%|          | 0.00/185M [00:00<?, ?B/s]"
      ]
     },
     "metadata": {},
     "output_type": "display_data"
    },
    {
     "data": {
      "application/vnd.jupyter.widget-view+json": {
       "model_id": "ef61d12152f043138d753f547d1148ca",
       "version_major": 2,
       "version_minor": 0
      },
      "text/plain": [
       "(…)-22-arxiv-abstracts-instructorxl.parquet:   0%|          | 0.00/185M [00:00<?, ?B/s]"
      ]
     },
     "metadata": {},
     "output_type": "display_data"
    },
    {
     "data": {
      "application/vnd.jupyter.widget-view+json": {
       "model_id": "bdaa037d7eb24c1b9a25a25e9285a486",
       "version_major": 2,
       "version_minor": 0
      },
      "text/plain": [
       "(…)-23-arxiv-abstracts-instructorxl.parquet:   0%|          | 0.00/184M [00:00<?, ?B/s]"
      ]
     },
     "metadata": {},
     "output_type": "display_data"
    },
    {
     "data": {
      "application/vnd.jupyter.widget-view+json": {
       "model_id": "d4b99d6b0b5a43d482a47f6500aff103",
       "version_major": 2,
       "version_minor": 0
      },
      "text/plain": [
       "(…)-24-arxiv-abstracts-instructorxl.parquet:   0%|          | 0.00/184M [00:00<?, ?B/s]"
      ]
     },
     "metadata": {},
     "output_type": "display_data"
    },
    {
     "data": {
      "application/vnd.jupyter.widget-view+json": {
       "model_id": "fe9f7abb261045c08cc69ebbb28d38c5",
       "version_major": 2,
       "version_minor": 0
      },
      "text/plain": [
       "(…)-25-arxiv-abstracts-instructorxl.parquet:   0%|          | 0.00/184M [00:00<?, ?B/s]"
      ]
     },
     "metadata": {},
     "output_type": "display_data"
    },
    {
     "data": {
      "application/vnd.jupyter.widget-view+json": {
       "model_id": "929af57f76904f7f999eab24cbc38eff",
       "version_major": 2,
       "version_minor": 0
      },
      "text/plain": [
       "(…)-26-arxiv-abstracts-instructorxl.parquet:   0%|          | 0.00/184M [00:00<?, ?B/s]"
      ]
     },
     "metadata": {},
     "output_type": "display_data"
    },
    {
     "data": {
      "application/vnd.jupyter.widget-view+json": {
       "model_id": "b8b625e6c31f4010b8d31a225b3adc49",
       "version_major": 2,
       "version_minor": 0
      },
      "text/plain": [
       "(…)-27-arxiv-abstracts-instructorxl.parquet:   0%|          | 0.00/184M [00:00<?, ?B/s]"
      ]
     },
     "metadata": {},
     "output_type": "display_data"
    },
    {
     "data": {
      "application/vnd.jupyter.widget-view+json": {
       "model_id": "76761cbec65e4d0a9fd66d05f2176a05",
       "version_major": 2,
       "version_minor": 0
      },
      "text/plain": [
       "(…)-28-arxiv-abstracts-instructorxl.parquet:   0%|          | 0.00/184M [00:00<?, ?B/s]"
      ]
     },
     "metadata": {},
     "output_type": "display_data"
    },
    {
     "data": {
      "application/vnd.jupyter.widget-view+json": {
       "model_id": "1886e19a54ba4cbdb6939a88ab206145",
       "version_major": 2,
       "version_minor": 0
      },
      "text/plain": [
       "(…)-29-arxiv-abstracts-instructorxl.parquet:   0%|          | 0.00/184M [00:00<?, ?B/s]"
      ]
     },
     "metadata": {},
     "output_type": "display_data"
    },
    {
     "data": {
      "application/vnd.jupyter.widget-view+json": {
       "model_id": "f2aca0b6cffb4ee3a374d1f688f0b35a",
       "version_major": 2,
       "version_minor": 0
      },
      "text/plain": [
       "(…)-30-arxiv-abstracts-instructorxl.parquet:   0%|          | 0.00/185M [00:00<?, ?B/s]"
      ]
     },
     "metadata": {},
     "output_type": "display_data"
    },
    {
     "data": {
      "application/vnd.jupyter.widget-view+json": {
       "model_id": "a7419580b3424270a4a5494342121f52",
       "version_major": 2,
       "version_minor": 0
      },
      "text/plain": [
       "(…)-31-arxiv-abstracts-instructorxl.parquet:   0%|          | 0.00/184M [00:00<?, ?B/s]"
      ]
     },
     "metadata": {},
     "output_type": "display_data"
    },
    {
     "data": {
      "application/vnd.jupyter.widget-view+json": {
       "model_id": "4fcbd2e620404ccfb1622b68b3c66ee7",
       "version_major": 2,
       "version_minor": 0
      },
      "text/plain": [
       "(…)-32-arxiv-abstracts-instructorxl.parquet:   0%|          | 0.00/184M [00:00<?, ?B/s]"
      ]
     },
     "metadata": {},
     "output_type": "display_data"
    },
    {
     "data": {
      "application/vnd.jupyter.widget-view+json": {
       "model_id": "5e328ed0adc34754a2490186dddf60e2",
       "version_major": 2,
       "version_minor": 0
      },
      "text/plain": [
       "(…)-33-arxiv-abstracts-instructorxl.parquet:   0%|          | 0.00/184M [00:00<?, ?B/s]"
      ]
     },
     "metadata": {},
     "output_type": "display_data"
    },
    {
     "data": {
      "application/vnd.jupyter.widget-view+json": {
       "model_id": "2c207ce04d0c4fc7ade4e41a26afd1f6",
       "version_major": 2,
       "version_minor": 0
      },
      "text/plain": [
       "(…)-34-arxiv-abstracts-instructorxl.parquet:   0%|          | 0.00/184M [00:00<?, ?B/s]"
      ]
     },
     "metadata": {},
     "output_type": "display_data"
    },
    {
     "data": {
      "application/vnd.jupyter.widget-view+json": {
       "model_id": "2714bc5f78d14b288f78df991f32de44",
       "version_major": 2,
       "version_minor": 0
      },
      "text/plain": [
       "(…)-35-arxiv-abstracts-instructorxl.parquet:   0%|          | 0.00/184M [00:00<?, ?B/s]"
      ]
     },
     "metadata": {},
     "output_type": "display_data"
    },
    {
     "data": {
      "application/vnd.jupyter.widget-view+json": {
       "model_id": "2b01701fc8e64be69756dbdd69611357",
       "version_major": 2,
       "version_minor": 0
      },
      "text/plain": [
       "(…)-36-arxiv-abstracts-instructorxl.parquet:   0%|          | 0.00/184M [00:00<?, ?B/s]"
      ]
     },
     "metadata": {},
     "output_type": "display_data"
    },
    {
     "data": {
      "application/vnd.jupyter.widget-view+json": {
       "model_id": "847b96b996984a21b0b8dfc178795ebd",
       "version_major": 2,
       "version_minor": 0
      },
      "text/plain": [
       "(…)-37-arxiv-abstracts-instructorxl.parquet:   0%|          | 0.00/184M [00:00<?, ?B/s]"
      ]
     },
     "metadata": {},
     "output_type": "display_data"
    },
    {
     "data": {
      "application/vnd.jupyter.widget-view+json": {
       "model_id": "410e19824aae47c4ab4793b44f6a73a9",
       "version_major": 2,
       "version_minor": 0
      },
      "text/plain": [
       "(…)-38-arxiv-abstracts-instructorxl.parquet:   0%|          | 0.00/184M [00:00<?, ?B/s]"
      ]
     },
     "metadata": {},
     "output_type": "display_data"
    },
    {
     "data": {
      "application/vnd.jupyter.widget-view+json": {
       "model_id": "0218f38f364b49ee96103dc6202040f6",
       "version_major": 2,
       "version_minor": 0
      },
      "text/plain": [
       "(…)-39-arxiv-abstracts-instructorxl.parquet:   0%|          | 0.00/184M [00:00<?, ?B/s]"
      ]
     },
     "metadata": {},
     "output_type": "display_data"
    },
    {
     "data": {
      "application/vnd.jupyter.widget-view+json": {
       "model_id": "110ffd134e624b239856a1a050a628b2",
       "version_major": 2,
       "version_minor": 0
      },
      "text/plain": [
       "(…)-40-arxiv-abstracts-instructorxl.parquet:   0%|          | 0.00/184M [00:00<?, ?B/s]"
      ]
     },
     "metadata": {},
     "output_type": "display_data"
    },
    {
     "data": {
      "application/vnd.jupyter.widget-view+json": {
       "model_id": "27a06ae01dcf4413b75ac11b9979642e",
       "version_major": 2,
       "version_minor": 0
      },
      "text/plain": [
       "(…)-41-arxiv-abstracts-instructorxl.parquet:   0%|          | 0.00/185M [00:00<?, ?B/s]"
      ]
     },
     "metadata": {},
     "output_type": "display_data"
    },
    {
     "data": {
      "application/vnd.jupyter.widget-view+json": {
       "model_id": "6d9ce5534e3948da94ccde09f5a9ad1d",
       "version_major": 2,
       "version_minor": 0
      },
      "text/plain": [
       "(…)-42-arxiv-abstracts-instructorxl.parquet:   0%|          | 0.00/184M [00:00<?, ?B/s]"
      ]
     },
     "metadata": {},
     "output_type": "display_data"
    },
    {
     "data": {
      "application/vnd.jupyter.widget-view+json": {
       "model_id": "aff37cad6eab45d8a06084b54abadbb5",
       "version_major": 2,
       "version_minor": 0
      },
      "text/plain": [
       "(…)-43-arxiv-abstracts-instructorxl.parquet:   0%|          | 0.00/185M [00:00<?, ?B/s]"
      ]
     },
     "metadata": {},
     "output_type": "display_data"
    },
    {
     "data": {
      "application/vnd.jupyter.widget-view+json": {
       "model_id": "0489b52d83b64a6c880fb51b92609570",
       "version_major": 2,
       "version_minor": 0
      },
      "text/plain": [
       "(…)-44-arxiv-abstracts-instructorxl.parquet:   0%|          | 0.00/184M [00:00<?, ?B/s]"
      ]
     },
     "metadata": {},
     "output_type": "display_data"
    },
    {
     "data": {
      "application/vnd.jupyter.widget-view+json": {
       "model_id": "1383cc6650d04df7982ed67fb4d817d4",
       "version_major": 2,
       "version_minor": 0
      },
      "text/plain": [
       "(…)-45-arxiv-abstracts-instructorxl.parquet:   0%|          | 0.00/15.4M [00:00<?, ?B/s]"
      ]
     },
     "metadata": {},
     "output_type": "display_data"
    },
    {
     "data": {
      "application/vnd.jupyter.widget-view+json": {
       "model_id": "06e093fe3581404d8250e4269c4c435e",
       "version_major": 2,
       "version_minor": 0
      },
      "text/plain": [
       "Generating train split:   0%|          | 0/2254000 [00:00<?, ? examples/s]"
      ]
     },
     "metadata": {},
     "output_type": "display_data"
    },
    {
     "name": "stdout",
     "output_type": "stream",
     "text": [
      "Dataset loaded in 196.13 seconds\n"
     ]
    }
   ],
   "source": [
    "# Get Qdrant ArXiv Abstract embeddings from Hugging Face\n",
    "\n",
    "from huggingface_hub import login\n",
    "from datasets import load_dataset\n",
    "\n",
    "import time\n",
    "\n",
    "# Login to Hugging Face\n",
    "login(token=\"YourOwnHuggingFaceToken\")\n",
    "\n",
    "print(\"Loading the complete Qdrant ArXiv Abstract embeddings dataset...\")\n",
    "start_time = time.time()\n",
    "\n",
    "# Load the entire dataset (non-streaming mode)\n",
    "# This will load everything into memory at once\n",
    "docs = load_dataset(\"Qdrant/arxiv-abstracts-instructorxl-embeddings\", split=\"train\")\n",
    "\n",
    "loading_time = time.time() - start_time\n",
    "print(f\"Dataset loaded in {loading_time:.2f} seconds\")\n",
    "# print(f\"Dataset size: {len(docs['train'])} examples\")"
   ]
  },
  {
   "cell_type": "code",
   "execution_count": 12,
   "id": "a3dfc732-cb9c-43eb-ab48-360fbe741a35",
   "metadata": {},
   "outputs": [
    {
     "name": "stdout",
     "output_type": "stream",
     "text": [
      "Total number of rows: 2254000\n",
      "Processing and saving embeddings in chunks...\n",
      "Processing chunk 1/3 (rows 0 to 999999)...\n",
      "  Processed batch 10/100\n",
      "  Processed batch 20/100\n",
      "  Processed batch 30/100\n",
      "  Processed batch 40/100\n",
      "  Processed batch 50/100\n",
      "  Processed batch 60/100\n",
      "  Processed batch 70/100\n",
      "  Processed batch 80/100\n",
      "  Processed batch 90/100\n",
      "  Processed batch 100/100\n",
      "Saved chunk 1 to C:/Users/rozmu/Documents/JupyterLabStuff/IntrinsicDimHumanKnowledge/arxivabstract_embeddings_chunks\\embeddings_chunk_000.npy\n",
      "Processing chunk 2/3 (rows 1000000 to 1999999)...\n",
      "  Processed batch 10/100\n",
      "  Processed batch 20/100\n",
      "  Processed batch 30/100\n",
      "  Processed batch 40/100\n",
      "  Processed batch 50/100\n",
      "  Processed batch 60/100\n",
      "  Processed batch 70/100\n",
      "  Processed batch 80/100\n",
      "  Processed batch 90/100\n",
      "  Processed batch 100/100\n",
      "Saved chunk 2 to C:/Users/rozmu/Documents/JupyterLabStuff/IntrinsicDimHumanKnowledge/arxivabstract_embeddings_chunks\\embeddings_chunk_001.npy\n",
      "Processing chunk 3/3 (rows 2000000 to 2253999)...\n",
      "  Processed batch 10/26\n",
      "  Processed batch 20/26\n",
      "  Processed batch 26/26\n",
      "Saved chunk 3 to C:/Users/rozmu/Documents/JupyterLabStuff/IntrinsicDimHumanKnowledge/arxivabstract_embeddings_chunks\\embeddings_chunk_002.npy\n",
      "All processing completed in 402.84 seconds\n"
     ]
    }
   ],
   "source": [
    "# Convert embedding vectors from dataset to numpy array\n",
    "\n",
    "import numpy as np\n",
    "import os\n",
    "\n",
    "# Get the total number of rows\n",
    "num_rows = len(docs)\n",
    "print(f\"Total number of rows: {num_rows}\")\n",
    "\n",
    "# Define chunk size for processing and saving\n",
    "# Each embedding is 768 * 4 bytes (float32) ≈ 3 KB\n",
    "# Processing 1M embeddings at a time ≈ 3 GB of memory\n",
    "chunk_size = 1000000\n",
    "num_chunks = (num_rows + chunk_size - 1) // chunk_size\n",
    "\n",
    "output_dir = \"C:/Users/rozmu/Documents/JupyterLabStuff/IntrinsicDimHumanKnowledge/arxivabstract_embeddings_chunks\"\n",
    "os.makedirs(output_dir, exist_ok=True)\n",
    "\n",
    "print(\"Processing and saving embeddings in chunks...\")\n",
    "extract_start = time.time()\n",
    "\n",
    "for chunk_idx in range(num_chunks):\n",
    "    start_idx = chunk_idx * chunk_size\n",
    "    end_idx = min((chunk_idx + 1) * chunk_size, num_rows)\n",
    "    current_size = end_idx - start_idx\n",
    "    \n",
    "    print(f\"Processing chunk {chunk_idx+1}/{num_chunks} (rows {start_idx} to {end_idx-1})...\")\n",
    "    \n",
    "    # Process this chunk in smaller batches\n",
    "    batch_size = 10000\n",
    "    num_batches = (current_size + batch_size - 1) // batch_size\n",
    "    \n",
    "    # Initialize array just for this chunk\n",
    "    chunk_embeddings = np.zeros((current_size, 768), dtype=np.float32)\n",
    "    \n",
    "    for batch_idx in range(num_batches):\n",
    "        batch_start = start_idx + batch_idx * batch_size\n",
    "        batch_end = min(start_idx + (batch_idx + 1) * batch_size, end_idx)\n",
    "        \n",
    "        # Get batch of examples using the proper slicing for datasets.arrow_dataset.Dataset\n",
    "        batch = docs.select(range(batch_start, batch_end))\n",
    "        batch_embeddings = np.array(batch['vector'], dtype=np.float32)\n",
    "        \n",
    "        # Store in the chunk array\n",
    "        local_start = batch_start - start_idx\n",
    "        local_end = batch_end - start_idx\n",
    "        chunk_embeddings[local_start:local_end] = batch_embeddings\n",
    "        \n",
    "        if (batch_idx + 1) % 10 == 0 or (batch_idx + 1) == num_batches:\n",
    "            print(f\"  Processed batch {batch_idx+1}/{num_batches}\")\n",
    "    \n",
    "    # Save this chunk to disk\n",
    "    chunk_filename = os.path.join(output_dir, f\"embeddings_chunk_{chunk_idx:03d}.npy\")\n",
    "    np.save(chunk_filename, chunk_embeddings)\n",
    "    print(f\"Saved chunk {chunk_idx+1} to {chunk_filename}\")\n",
    "    \n",
    "    # Free memory\n",
    "    del chunk_embeddings\n",
    "    \n",
    "print(f\"All processing completed in {time.time() - extract_start:.2f} seconds\")\n",
    "\n",
    "# Create a metadata file with information about the chunks\n",
    "with open(os.path.join(output_dir, \"metadata.txt\"), \"w\") as f:\n",
    "    f.write(f\"Total embeddings: {num_rows}\\n\")\n",
    "    f.write(f\"Embedding dimensions: 768\\n\")\n",
    "    f.write(f\"Number of chunks: {num_chunks}\\n\")\n",
    "    f.write(f\"Chunk size: {chunk_size}\\n\")\n",
    "    f.write(\"Data type: float32\\n\")\n",
    "    f.write(\"File format: NumPy .npy\\n\")\n",
    "\n",
    "# OPTIONAL: To recover disk space on SSD C:, manually delete downloaded dataset here after execution of this cell: C:\\Users\\{username}\\.cache\\huggingface\\datasets\\"
   ]
  },
  {
   "cell_type": "code",
   "execution_count": 2,
   "id": "dcaaeede-79c7-45bd-82b1-11a50b57a6df",
   "metadata": {},
   "outputs": [
    {
     "name": "stdout",
     "output_type": "stream",
     "text": [
      "Reservoir sampling 22,540 vectors from 2,254,000 total\n",
      "Processed embeddings_chunk_000.npy: 1,000,000 vectors seen\n",
      "Processed embeddings_chunk_001.npy: 2,000,000 vectors seen\n",
      "Processed embeddings_chunk_002.npy: 2,254,000 vectors seen\n"
     ]
    }
   ],
   "source": [
    "# Get randomly sampled X% of embedding vectors\n",
    "\n",
    "import numpy as np\n",
    "import os\n",
    "import random\n",
    "from pathlib import Path\n",
    "\n",
    "X = 1.0\n",
    "\n",
    "def reservoir_sample_vectors(directory, sample_percentage, seed=None):\n",
    "    \"\"\"\n",
    "    Memory-efficient reservoir sampling of vectors from .npy files.\n",
    "    This approach maintains constant memory usage regardless of total data size.\n",
    "    \"\"\"\n",
    "    if seed is not None:\n",
    "        random.seed(seed)\n",
    "        np.random.seed(seed)\n",
    "    \n",
    "    npy_files = list(Path(directory).glob(\"*.npy\"))\n",
    "    if not npy_files:\n",
    "        raise ValueError(f\"No .npy files found in {directory}\")\n",
    "    \n",
    "    # First pass: count total vectors\n",
    "    total_vectors = 0\n",
    "    for file_path in npy_files:\n",
    "        arr = np.load(file_path, mmap_mode='r')\n",
    "        total_vectors += arr.shape[0]\n",
    "    \n",
    "    sample_count = int(total_vectors * sample_percentage / 100)\n",
    "    print(f\"Reservoir sampling {sample_count:,} vectors from {total_vectors:,} total\")\n",
    "    \n",
    "    # Initialize reservoir\n",
    "    reservoir = None\n",
    "    vectors_seen = 0\n",
    "    \n",
    "    for file_path in npy_files:\n",
    "        arr = np.load(file_path, mmap_mode='r')\n",
    "        \n",
    "        for i in range(arr.shape[0]):\n",
    "            vectors_seen += 1\n",
    "            \n",
    "            if reservoir is None:\n",
    "                # Initialize reservoir with first vectors\n",
    "                reservoir = np.zeros((sample_count, 768), dtype=arr.dtype)\n",
    "            \n",
    "            if len(reservoir) < sample_count:\n",
    "                # Fill reservoir\n",
    "                reservoir[len(reservoir)] = arr[i]\n",
    "            else:\n",
    "                # Replace with probability sample_count/vectors_seen\n",
    "                j = random.randint(0, vectors_seen - 1)\n",
    "                if j < sample_count:\n",
    "                    reservoir[j] = arr[i]\n",
    "        \n",
    "        print(f\"Processed {file_path.name}: {vectors_seen:,} vectors seen\")\n",
    "    \n",
    "    return reservoir[:min(sample_count, vectors_seen)]\n",
    "\n",
    "sampled_data = reservoir_sample_vectors(\"arxivabstract_embeddings_chunks\", X, seed=70)"
   ]
  },
  {
   "cell_type": "code",
   "execution_count": 2,
   "id": "93a751c8-b609-4c85-8390-6b729caf6a29",
   "metadata": {},
   "outputs": [
    {
     "name": "stdout",
     "output_type": "stream",
     "text": [
      "0.01 0.02 18.946713415466885\n",
      "0.019999999999999997 0.03 18.019218521377958\n",
      "0.03 0.04 17.37010543684205\n",
      "0.04 0.05 16.838779696904535\n",
      "0.049999999999999996 0.06 16.394727066716378\n",
      "0.060000000000000005 0.07 15.98570589839478\n",
      "0.07 0.08 15.60892666556237\n",
      "0.08000000000000002 0.09000000000000001 15.288293869565074\n",
      "0.09000000000000001 0.1 14.999667815391355\n",
      "0.1 0.11 14.736176110571842\n",
      "0.11000000000000001 0.12000000000000001 14.457248072071607\n",
      "0.12000000000000001 0.13 14.227209187345895\n",
      "0.12999999999999998 0.13999999999999999 14.0026128686484\n",
      "0.13999999999999999 0.15 13.797630996411876\n",
      "0.15 0.16 13.579716105930826\n",
      "0.15999999999999998 0.16999999999999998 13.393842572916737\n",
      "0.16999999999999998 0.18 13.212777050812237\n",
      "0.18 0.19 13.05547798229704\n",
      "0.18999999999999997 0.19999999999999998 12.871697703991497\n",
      "0.19999999999999998 0.21 12.710275846866736\n",
      "0.21 0.22 12.557310766297588\n",
      "0.21999999999999997 0.22999999999999998 12.396707886249171\n",
      "0.22999999999999998 0.24 12.242747567440404\n",
      "0.24 0.25 12.107950012698971\n",
      "0.25 0.26 11.966376590681026\n",
      "0.26 0.27 11.823804038910364\n",
      "0.27 0.28 11.695485600355433\n",
      "0.28 0.29000000000000004 11.561293162709422\n",
      "0.29000000000000004 0.30000000000000004 11.447544288789961\n",
      "0.3 0.31 11.31013673192271\n",
      "0.31 0.32 11.188154843960033\n",
      "0.32 0.33 11.059265627433504\n",
      "0.33 0.34 10.946314512174773\n",
      "0.34 0.35000000000000003 10.817580733212212\n",
      "0.35000000000000003 0.36000000000000004 10.718864489497461\n",
      "0.36000000000000004 0.37000000000000005 10.585246453125155\n",
      "0.37 0.38 10.479359663032394\n",
      "0.38 0.39 10.364477671179817\n",
      "0.39 0.4 10.246374875205309\n",
      "0.4 0.41000000000000003 10.122606545459604\n",
      "0.41000000000000003 0.42000000000000004 10.007255274468951\n",
      "0.42000000000000004 0.43000000000000005 9.896413758704599\n",
      "0.43 0.44 9.79017662499543\n",
      "0.44 0.45 9.688730653173236\n",
      "0.45 0.46 9.574889927039557\n",
      "0.46 0.47000000000000003 9.46362181777668\n",
      "0.47000000000000003 0.48000000000000004 9.348625665518892\n",
      "0.48000000000000004 0.49000000000000005 9.244078139446412\n",
      "0.49 0.5 9.136945679677263\n",
      "0.5 0.51 9.026097551980722\n",
      "0.51 0.52 8.913241009059314\n",
      "0.52 0.53 8.796886739451882\n",
      "0.53 0.54 8.69353972689583\n",
      "0.54 0.55 8.55384694648983\n",
      "0.55 0.56 8.458757475325024\n",
      "0.56 0.5700000000000001 8.3551517654591\n",
      "0.5700000000000001 0.5800000000000001 8.224909581388328\n",
      "0.5800000000000001 0.5900000000000001 8.132352081140342\n",
      "0.59 0.6 8.009018964436288\n",
      "0.6 0.61 7.892313769756379\n",
      "0.61 0.62 7.782312397615711\n",
      "0.62 0.63 7.668130466662444\n",
      "0.63 0.64 7.547957916872333\n",
      "0.64 0.65 7.430493124724914\n",
      "0.65 0.66 7.317489219243961\n",
      "0.66 0.67 7.187982891940461\n",
      "0.67 0.68 7.063521686335319\n",
      "0.68 0.6900000000000001 6.934504017678972\n",
      "0.6900000000000001 0.7000000000000001 6.820241108308734\n",
      "0.7000000000000001 0.7100000000000001 6.697900350398785\n",
      "0.7100000000000001 0.7200000000000001 6.565282200814866\n",
      "0.72 0.73 6.439426817513297\n",
      "0.73 0.74 6.309300777539025\n",
      "0.74 0.75 6.167357594725813\n",
      "0.75 0.76 6.042266845769645\n",
      "0.76 0.77 5.89127028513292\n",
      "0.77 0.78 5.757776421463191\n",
      "0.78 0.79 5.602957295080595\n",
      "0.79 0.8 5.457180837544893\n",
      "0.8 0.81 5.304338860682212\n",
      "0.81 0.8200000000000001 5.146722447907422\n",
      "0.8200000000000001 0.8300000000000001 4.985791085517058\n",
      "0.8300000000000001 0.8400000000000001 4.827612575379199\n",
      "0.8400000000000001 0.8500000000000001 4.6585864206321554\n",
      "0.85 0.86 4.492300639739457\n",
      "0.86 0.87 4.3103587896002615\n",
      "0.87 0.88 4.131327041023689\n",
      "0.88 0.89 3.9316108211708998\n",
      "0.89 0.9 3.73622169442064\n",
      "0.9 0.91 3.5266568116467325\n",
      "0.91 0.92 3.3065327417715142\n",
      "0.92 0.93 3.0617160173139384\n",
      "0.93 0.9400000000000001 2.8031086910222704\n",
      "0.9400000000000001 0.9500000000000001 2.5264946123381766\n",
      "0.9500000000000001 0.9600000000000001 2.2149744811387526\n",
      "0.9600000000000001 0.9700000000000001 1.8612734555072863\n",
      "0.97 0.98 1.442000436608361\n",
      "0.98 0.99 0.8688709152175256\n"
     ]
    },
    {
     "data": {
      "image/png": "[encoded data removed]",
      "text/plain": [
       "<Figure size 1000x600 with 1 Axes>"
      ]
     },
     "metadata": {},
     "output_type": "display_data"
    }
   ],
   "source": [
    "# Estimate intrinsic dimension of sampled vectors by correlation dimension method.\n",
    "import skdim\n",
    "import os\n",
    "import matplotlib.pyplot as plt\n",
    "import numpy as np\n",
    "\n",
    "os.environ['LOKY_MAX_CPU_COUNT'] = '1'\n",
    "\n",
    "Sample_Count = sampled_data.shape[0]\n",
    "\n",
    "# Lists to store data for plotting\n",
    "proportion_largest_values = []\n",
    "intrinsic_dim_values = []\n",
    "\n",
    "for i in range(98):\n",
    "    proportion_largest = .02 + (i*.01)\n",
    "    proportion_smallest = proportion_largest - .01\n",
    "    ID_Estimator = skdim.id.CorrInt(int(proportion_smallest*Sample_Count),int(proportion_largest*Sample_Count))\n",
    "    IntrinsicDim = ID_Estimator.fit_transform(sampled_data)\n",
    "    print(proportion_smallest, proportion_largest, IntrinsicDim)\n",
    "    \n",
    "    # Store values for plotting\n",
    "    proportion_largest_values.append(proportion_largest)\n",
    "    intrinsic_dim_values.append(IntrinsicDim)\n",
    "\n",
    "# Create the line graph\n",
    "plt.figure(figsize=(10, 6))\n",
    "plt.plot(proportion_largest_values, intrinsic_dim_values, marker='o', linewidth=2, markersize=6)\n",
    "plt.xlabel('Proportion Largest')\n",
    "plt.ylabel('Intrinsic Dimension')\n",
    "plt.title('Intrinsic Dimension vs Proportion Largest')\n",
    "plt.grid(True, alpha=0.3)\n",
    "plt.tight_layout()\n",
    "plt.show()"
   ]
  },
  {
   "cell_type": "code",
   "execution_count": 4,
   "id": "200776f9-a83a-44dd-8339-5500744b5d90",
   "metadata": {},
   "outputs": [
    {
     "name": "stdout",
     "output_type": "stream",
     "text": [
      "[-92.74948941 -78.83039893 -59.02194122 -48.76891851 -42.65368993\n",
      " -39.29002006 -34.87060144 -30.46294251 -27.60588795 -27.12098717\n",
      " -25.44834616 -22.73176017 -21.47890955 -21.14483814 -20.18942117\n",
      " -18.34695276 -16.91822953 -17.05396734 -17.26010677 -15.71934688\n",
      " -15.67839803 -15.72815994 -14.43789368 -13.81854884 -14.20729869\n",
      " -13.54454952 -13.12554381 -12.39706558 -12.55782154 -12.96947224\n",
      " -12.54355522 -12.09201659 -12.08424471 -11.37250113 -11.616714\n",
      " -11.97524132 -11.0384391  -11.64923939 -12.09355629 -11.95598004\n",
      " -11.30963934 -10.85393247 -10.38415528 -10.7643349  -11.25544177\n",
      " -11.31321308 -10.97718392 -10.58399929 -10.89902937 -11.18523353\n",
      " -11.46054063 -10.98506411 -12.15198965 -11.73911258  -9.93475905\n",
      " -11.6923947  -11.13998422 -10.79453085 -12.00191557 -11.33532834\n",
      " -11.20916515 -11.71772404 -11.8818671  -11.52343488 -12.12551164\n",
      " -12.69837665 -12.67394371 -12.1640289  -11.83018336 -12.74794537\n",
      " -12.92367664 -12.79907116 -13.60346114 -13.35169659 -13.80436548\n",
      " -14.22452122 -14.4156495  -15.0297792  -14.93092172 -15.52291948\n",
      " -15.92738876 -15.95549363 -16.36023324 -16.76559678 -17.41138155\n",
      " -18.04867994 -18.93739842 -19.75526733 -20.24770048 -21.48444763\n",
      " -23.24703972 -25.17120254 -26.76107025 -29.40671049 -33.26105784\n",
      " -38.64870223 -49.62012701 -57.31295214]\n"
     ]
    },
    {
     "data": {
      "image/png": "[encoded data removed]",
      "text/plain": [
       "<Figure size 1000x600 with 1 Axes>"
      ]
     },
     "metadata": {},
     "output_type": "display_data"
    },
    {
     "name": "stdout",
     "output_type": "stream",
     "text": [
      "Mean derivative: -19.2124\n",
      "Standard deviation: 13.9674\n",
      "Min derivative: -92.7495 at proportion = 0.020\n",
      "Max derivative: -9.9348 at proportion = 0.560\n"
     ]
    }
   ],
   "source": [
    "# Calculate the first derivative of Intrinsic Dimension with respect to Proportion Largest\n",
    "import numpy as np\n",
    "import matplotlib.pyplot as plt\n",
    "\n",
    "# Calculate the first derivative using numpy's gradient function\n",
    "# This computes the derivative using central differences where possible\n",
    "derivative_values = np.gradient(intrinsic_dim_values, proportion_largest_values)\n",
    "print(derivative_values)\n",
    "\n",
    "# Alternative: Manual calculation using forward differences\n",
    "# derivative_manual = []\n",
    "# for i in range(len(intrinsic_dim_values) - 1):\n",
    "#     dy = intrinsic_dim_values[i+1] - intrinsic_dim_values[i]\n",
    "#     dx = proportion_largest_values[i+1] - proportion_largest_values[i]\n",
    "#     derivative_manual.append(dy / dx)\n",
    "\n",
    "# Create the derivative plot\n",
    "plt.figure(figsize=(10, 6))\n",
    "plt.plot(proportion_largest_values, derivative_values, marker='s', linewidth=2, markersize=6, color='red')\n",
    "plt.xlabel('Proportion Largest')\n",
    "plt.ylabel('d(Intrinsic Dimension)/d(Proportion Largest)')\n",
    "plt.title('First Derivative: Rate of Change of Intrinsic Dimension')\n",
    "plt.grid(True, alpha=0.3)\n",
    "plt.axhline(y=0, color='black', linestyle='--', alpha=0.5)  # Add horizontal line at y=0\n",
    "plt.tight_layout()\n",
    "plt.show()\n",
    "\n",
    "# Print some statistics about the derivative\n",
    "print(f\"Mean derivative: {np.mean(derivative_values):.4f}\")\n",
    "print(f\"Standard deviation: {np.std(derivative_values):.4f}\")\n",
    "print(f\"Min derivative: {np.min(derivative_values):.4f} at proportion = {proportion_largest_values[np.argmin(derivative_values)]:.3f}\")\n",
    "print(f\"Max derivative: {np.max(derivative_values):.4f} at proportion = {proportion_largest_values[np.argmax(derivative_values)]:.3f}\")"
   ]
  },
  {
   "cell_type": "code",
   "execution_count": 3,
   "id": "47595003-424c-439b-8f31-503fc32a08af",
   "metadata": {},
   "outputs": [
    {
     "name": "stdout",
     "output_type": "stream",
     "text": [
      "0.001 0.002 21.60128118268715\n",
      "0.002 0.003 21.113176415088017\n",
      "0.003 0.004 20.801619811880137\n",
      "0.004 0.005 20.493202088313396\n",
      "0.005 0.006 20.30927592451504\n",
      "0.006 0.007 20.02423409789748\n",
      "0.007 0.008 19.849024559010815\n",
      "0.008 0.009000000000000001 19.741385629524324\n",
      "0.009000000000000001 0.01 19.532043508003394\n",
      "0.010000000000000002 0.011000000000000001 19.427338603556617\n",
      "0.011 0.012 19.261019413526828\n",
      "0.012 0.013 19.171656237093828\n",
      "0.013000000000000001 0.014 19.0707405166038\n",
      "0.014000000000000002 0.015000000000000001 18.925712838495407\n",
      "0.015 0.016 18.81572704291602\n",
      "0.016 0.017 18.717297784055017\n",
      "0.017 0.018000000000000002 18.566768220190685\n",
      "0.018000000000000002 0.019000000000000003 18.526210478174015\n",
      "0.019000000000000003 0.020000000000000004 18.415929334001877\n",
      "0.019999999999999997 0.020999999999999998 18.315091947025234\n"
     ]
    },
    {
     "data": {
      "image/png": "[encoded data removed]",
      "text/plain": [
       "<Figure size 1000x600 with 1 Axes>"
      ]
     },
     "metadata": {},
     "output_type": "display_data"
    }
   ],
   "source": [
    "# Estimate intrinsic dimension of sampled vectors by correlation dimension method.\n",
    "import skdim\n",
    "import os\n",
    "import matplotlib.pyplot as plt\n",
    "import numpy as np\n",
    "\n",
    "os.environ['LOKY_MAX_CPU_COUNT'] = '1'\n",
    "\n",
    "Sample_Count = sampled_data.shape[0]\n",
    "\n",
    "# Lists to store data for plotting\n",
    "proportion_largest_values = []\n",
    "intrinsic_dim_values = []\n",
    "\n",
    "for i in range(20):\n",
    "    proportion_largest = .002 + (i*.001)\n",
    "    proportion_smallest = proportion_largest - .001\n",
    "    ID_Estimator = skdim.id.CorrInt(int(proportion_smallest*Sample_Count),int(proportion_largest*Sample_Count))\n",
    "    IntrinsicDim = ID_Estimator.fit_transform(sampled_data)\n",
    "    print(proportion_smallest, proportion_largest, IntrinsicDim)\n",
    "    \n",
    "    # Store values for plotting\n",
    "    proportion_largest_values.append(proportion_largest)\n",
    "    intrinsic_dim_values.append(IntrinsicDim)\n",
    "\n",
    "# Create the line graph\n",
    "plt.figure(figsize=(10, 6))\n",
    "plt.plot(proportion_largest_values, intrinsic_dim_values, marker='o', linewidth=2, markersize=6)\n",
    "plt.xlabel('Proportion Largest')\n",
    "plt.ylabel('Intrinsic Dimension')\n",
    "plt.title('Intrinsic Dimension vs Proportion Largest')\n",
    "plt.grid(True, alpha=0.3)\n",
    "plt.tight_layout()\n",
    "plt.show()"
   ]
  },
  {
   "cell_type": "code",
   "execution_count": 4,
   "id": "a4cac9e8-5adc-4449-b34a-37c2277d1fe3",
   "metadata": {},
   "outputs": [
    {
     "name": "stdout",
     "output_type": "stream",
     "text": [
      "[-488.1047676  -399.8306854  -309.98716339 -246.17194368 -234.48399521\n",
      " -230.12568275 -141.42423419 -158.4905255  -157.02351298 -135.51204724\n",
      " -127.84118323  -95.13944846 -122.9716993  -127.50673684 -104.20752722\n",
      " -124.47941136  -95.54365294  -75.41944309 -105.55926557 -100.83738698]\n"
     ]
    },
    {
     "data": {
      "image/png": "[encoded data removed]",
      "text/plain": [
       "<Figure size 1000x600 with 1 Axes>"
      ]
     },
     "metadata": {},
     "output_type": "display_data"
    },
    {
     "name": "stdout",
     "output_type": "stream",
     "text": [
      "Mean derivative: -179.0330\n",
      "Standard deviation: 107.0244\n",
      "Min derivative: -488.1048 at proportion = 0.002\n",
      "Max derivative: -75.4194 at proportion = 0.019\n"
     ]
    }
   ],
   "source": [
    "# Calculate the first derivative of Intrinsic Dimension with respect to Proportion Largest\n",
    "import numpy as np\n",
    "import matplotlib.pyplot as plt\n",
    "\n",
    "# Calculate the first derivative using numpy's gradient function\n",
    "# This computes the derivative using central differences where possible\n",
    "derivative_values = np.gradient(intrinsic_dim_values, proportion_largest_values)\n",
    "print(derivative_values)\n",
    "\n",
    "# Alternative: Manual calculation using forward differences\n",
    "# derivative_manual = []\n",
    "# for i in range(len(intrinsic_dim_values) - 1):\n",
    "#     dy = intrinsic_dim_values[i+1] - intrinsic_dim_values[i]\n",
    "#     dx = proportion_largest_values[i+1] - proportion_largest_values[i]\n",
    "#     derivative_manual.append(dy / dx)\n",
    "\n",
    "# Create the derivative plot\n",
    "plt.figure(figsize=(10, 6))\n",
    "plt.plot(proportion_largest_values, derivative_values, marker='s', linewidth=2, markersize=6, color='red')\n",
    "plt.xlabel('Proportion Largest')\n",
    "plt.ylabel('d(Intrinsic Dimension)/d(Proportion Largest)')\n",
    "plt.title('First Derivative: Rate of Change of Intrinsic Dimension')\n",
    "plt.grid(True, alpha=0.3)\n",
    "plt.axhline(y=0, color='black', linestyle='--', alpha=0.5)  # Add horizontal line at y=0\n",
    "plt.tight_layout()\n",
    "plt.show()\n",
    "\n",
    "# Print some statistics about the derivative\n",
    "print(f\"Mean derivative: {np.mean(derivative_values):.4f}\")\n",
    "print(f\"Standard deviation: {np.std(derivative_values):.4f}\")\n",
    "print(f\"Min derivative: {np.min(derivative_values):.4f} at proportion = {proportion_largest_values[np.argmin(derivative_values)]:.3f}\")\n",
    "print(f\"Max derivative: {np.max(derivative_values):.4f} at proportion = {proportion_largest_values[np.argmax(derivative_values)]:.3f}\")"
   ]
  },
  {
   "cell_type": "code",
   "execution_count": null,
   "id": "c75da9ca-f0d0-4531-abbd-f3e178e1ce74",
   "metadata": {},
   "outputs": [],
   "source": []
  }
 ],
 "metadata": {
  "kernelspec": {
   "display_name": "Python [conda env:intrinsic_dim]",
   "language": "python",
   "name": "conda-env-intrinsic_dim-py"
  },
  "language_info": {
   "codemirror_mode": {
    "name": "ipython",
    "version": 3
   },
   "file_extension": ".py",
   "mimetype": "text/x-python",
   "name": "python",
   "nbconvert_exporter": "python",
   "pygments_lexer": "ipython3",
   "version": "3.12.7"
  }
 },
 "nbformat": 4,
 "nbformat_minor": 5
}
